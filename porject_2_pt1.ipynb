{
  "nbformat": 4,
  "nbformat_minor": 0,
  "metadata": {
    "colab": {
      "provenance": []
    },
    "kernelspec": {
      "name": "python3",
      "display_name": "Python 3"
    },
    "language_info": {
      "name": "python"
    }
  },
  "cells": [
    {
      "cell_type": "code",
      "execution_count": 2,
      "metadata": {
        "id": "rM6MTjy_DbBr"
      },
      "outputs": [],
      "source": [
        "import pandas as pd"
      ]
    },
    {
      "cell_type": "code",
      "source": [
        "file_url = 'https://docs.google.com/spreadsheets/d/e/2PACX-1vQaUVrlyhW3Mv2rayuu6rq4MnZTzIGkyUh0m3RKwAAFGtoa_AUljnZ30K_Urnjmebhtnmw1Q04O0l1j/pub?output=csv'\n",
        "df = pd.read_csv(file_url)\n",
        "df.info()"
      ],
      "metadata": {
        "colab": {
          "base_uri": "https://localhost:8080/"
        },
        "id": "8NvTrm3woXrK",
        "outputId": "724e3dbb-6653-4c4b-9ab2-e11d31bfb419"
      },
      "execution_count": 3,
      "outputs": [
        {
          "output_type": "stream",
          "name": "stdout",
          "text": [
            "<class 'pandas.core.frame.DataFrame'>\n",
            "RangeIndex: 918 entries, 0 to 917\n",
            "Data columns (total 12 columns):\n",
            " #   Column          Non-Null Count  Dtype  \n",
            "---  ------          --------------  -----  \n",
            " 0   Age             918 non-null    int64  \n",
            " 1   Sex             918 non-null    object \n",
            " 2   ChestPainType   918 non-null    object \n",
            " 3   RestingBP       918 non-null    int64  \n",
            " 4   Cholesterol     918 non-null    int64  \n",
            " 5   FastingBS       918 non-null    int64  \n",
            " 6   RestingECG      918 non-null    object \n",
            " 7   MaxHR           918 non-null    int64  \n",
            " 8   ExerciseAngina  918 non-null    object \n",
            " 9   Oldpeak         918 non-null    float64\n",
            " 10  ST_Slope        918 non-null    object \n",
            " 11  HeartDisease    918 non-null    int64  \n",
            "dtypes: float64(1), int64(6), object(5)\n",
            "memory usage: 86.2+ KB\n"
          ]
        }
      ]
    },
    {
      "cell_type": "markdown",
      "source": [
        "1) Source of data<br>\n",
        "[Data source](https://www.kaggle.com/datasets/fedesoriano/heart-failure-prediction)<br>\n",
        "2) Brief description of data<br>\n",
        "Clinical features for predicting heart disease events.<br>\n",
        "3) What is the target?<br>\n",
        "Whether or not a patient potentially has a heart diseas<br>\n",
        "4) Is this a classification or regression problem?<br>\n",
        "classification<br>\n",
        "5) How many features?<br>\n",
        "11<br>\n",
        "6) How many rows of data.<br>\n",
        "918<br>\n",
        "7) What, if any, challenges do your foresee in cleaning, exploring, or modeling with this dataset?<br>\n",
        "Cleaning up data in the object columns."
      ],
      "metadata": {
        "id": "LYysb1q2rPZ4"
      }
    }
  ]
}